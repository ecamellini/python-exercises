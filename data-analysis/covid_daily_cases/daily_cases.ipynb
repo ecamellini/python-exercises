{
 "cells": [
  {
   "cell_type": "code",
   "execution_count": null,
   "metadata": {},
   "outputs": [],
   "source": [
    "# Visualizziamo i nuovi casi giornalieri di COVID in Italia\n",
    "# Usiamo i dati della protezione civile, disponibili qua: https://github.com/pcm-dpc/COVID-19\n",
    "# In particolare, ho scaricato nella cartella data i file di questa cartella: https://github.com/pcm-dpc/COVID-19/tree/master/dati-andamento-nazionale\n",
    "\n",
    "# Solo gli ultimi: dal 2021-11-21 al 2021-12-14\n",
    "\n",
    "# Nella cartella di questo esempio ci sono anche due grafici di riferimento che vogliamo imitare:\n",
    "# - Un grafico dell'andamento dei nuovi contagi giornalieri, tratto dal Sole24Ore: https://lab24.ilsole24ore.com/coronavirus/\n",
    "# - Un grafico dell'andamento settimanale, tratto da una newsletter de ilpost.it"
   ]
  },
  {
   "cell_type": "code",
   "execution_count": 22,
   "metadata": {},
   "outputs": [
    {
     "data": {
      "text/plain": [
       "['data/dpc-covid19-ita-andamento-nazionale-20211121.csv',\n",
       " 'data/dpc-covid19-ita-andamento-nazionale-20211122.csv',\n",
       " 'data/dpc-covid19-ita-andamento-nazionale-20211123.csv',\n",
       " 'data/dpc-covid19-ita-andamento-nazionale-20211124.csv',\n",
       " 'data/dpc-covid19-ita-andamento-nazionale-20211125.csv',\n",
       " 'data/dpc-covid19-ita-andamento-nazionale-20211126.csv',\n",
       " 'data/dpc-covid19-ita-andamento-nazionale-20211127.csv',\n",
       " 'data/dpc-covid19-ita-andamento-nazionale-20211128.csv',\n",
       " 'data/dpc-covid19-ita-andamento-nazionale-20211129.csv',\n",
       " 'data/dpc-covid19-ita-andamento-nazionale-20211130.csv',\n",
       " 'data/dpc-covid19-ita-andamento-nazionale-20211201.csv',\n",
       " 'data/dpc-covid19-ita-andamento-nazionale-20211202.csv',\n",
       " 'data/dpc-covid19-ita-andamento-nazionale-20211203.csv',\n",
       " 'data/dpc-covid19-ita-andamento-nazionale-20211204.csv',\n",
       " 'data/dpc-covid19-ita-andamento-nazionale-20211205.csv',\n",
       " 'data/dpc-covid19-ita-andamento-nazionale-20211206.csv',\n",
       " 'data/dpc-covid19-ita-andamento-nazionale-20211207.csv',\n",
       " 'data/dpc-covid19-ita-andamento-nazionale-20211208.csv',\n",
       " 'data/dpc-covid19-ita-andamento-nazionale-20211209.csv',\n",
       " 'data/dpc-covid19-ita-andamento-nazionale-20211210.csv',\n",
       " 'data/dpc-covid19-ita-andamento-nazionale-20211211.csv',\n",
       " 'data/dpc-covid19-ita-andamento-nazionale-20211212.csv',\n",
       " 'data/dpc-covid19-ita-andamento-nazionale-20211213.csv',\n",
       " 'data/dpc-covid19-ita-andamento-nazionale-20211214.csv']"
      ]
     },
     "execution_count": 22,
     "metadata": {},
     "output_type": "execute_result"
    }
   ],
   "source": [
    "import glob\n",
    "\n",
    "# Importiamo il percorso di tutti i file\n",
    "filenames = sorted(glob.glob(\"data/*.csv\"))\n",
    "filenames"
   ]
  },
  {
   "cell_type": "code",
   "execution_count": 23,
   "metadata": {},
   "outputs": [
    {
     "data": {
      "text/html": [
       "<div>\n",
       "<style scoped>\n",
       "    .dataframe tbody tr th:only-of-type {\n",
       "        vertical-align: middle;\n",
       "    }\n",
       "\n",
       "    .dataframe tbody tr th {\n",
       "        vertical-align: top;\n",
       "    }\n",
       "\n",
       "    .dataframe thead th {\n",
       "        text-align: right;\n",
       "    }\n",
       "</style>\n",
       "<table border=\"1\" class=\"dataframe\">\n",
       "  <thead>\n",
       "    <tr style=\"text-align: right;\">\n",
       "      <th></th>\n",
       "      <th>data</th>\n",
       "      <th>stato</th>\n",
       "      <th>ricoverati_con_sintomi</th>\n",
       "      <th>terapia_intensiva</th>\n",
       "      <th>totale_ospedalizzati</th>\n",
       "      <th>isolamento_domiciliare</th>\n",
       "      <th>totale_positivi</th>\n",
       "      <th>variazione_totale_positivi</th>\n",
       "      <th>nuovi_positivi</th>\n",
       "      <th>dimessi_guariti</th>\n",
       "      <th>...</th>\n",
       "      <th>tamponi</th>\n",
       "      <th>casi_testati</th>\n",
       "      <th>note</th>\n",
       "      <th>ingressi_terapia_intensiva</th>\n",
       "      <th>note_test</th>\n",
       "      <th>note_casi</th>\n",
       "      <th>totale_positivi_test_molecolare</th>\n",
       "      <th>totale_positivi_test_antigenico_rapido</th>\n",
       "      <th>tamponi_test_molecolare</th>\n",
       "      <th>tamponi_test_antigenico_rapido</th>\n",
       "    </tr>\n",
       "  </thead>\n",
       "  <tbody>\n",
       "    <tr>\n",
       "      <th>0</th>\n",
       "      <td>2021-11-21T17:00:00</td>\n",
       "      <td>ITA</td>\n",
       "      <td>4345</td>\n",
       "      <td>520</td>\n",
       "      <td>4865</td>\n",
       "      <td>143895</td>\n",
       "      <td>148760</td>\n",
       "      <td>5359</td>\n",
       "      <td>9709</td>\n",
       "      <td>4643751</td>\n",
       "      <td>...</td>\n",
       "      <td>114499740</td>\n",
       "      <td>37340316</td>\n",
       "      <td>NaN</td>\n",
       "      <td>35</td>\n",
       "      <td>NaN</td>\n",
       "      <td>NaN</td>\n",
       "      <td>4731444</td>\n",
       "      <td>194244</td>\n",
       "      <td>65859791</td>\n",
       "      <td>48639949</td>\n",
       "    </tr>\n",
       "  </tbody>\n",
       "</table>\n",
       "<p>1 rows × 24 columns</p>\n",
       "</div>"
      ],
      "text/plain": [
       "                  data stato  ricoverati_con_sintomi  terapia_intensiva  \\\n",
       "0  2021-11-21T17:00:00   ITA                    4345                520   \n",
       "\n",
       "   totale_ospedalizzati  isolamento_domiciliare  totale_positivi  \\\n",
       "0                  4865                  143895           148760   \n",
       "\n",
       "   variazione_totale_positivi  nuovi_positivi  dimessi_guariti  ...  \\\n",
       "0                        5359            9709          4643751  ...   \n",
       "\n",
       "     tamponi  casi_testati  note  ingressi_terapia_intensiva  note_test  \\\n",
       "0  114499740      37340316   NaN                          35        NaN   \n",
       "\n",
       "   note_casi  totale_positivi_test_molecolare  \\\n",
       "0        NaN                          4731444   \n",
       "\n",
       "   totale_positivi_test_antigenico_rapido  tamponi_test_molecolare  \\\n",
       "0                                  194244                 65859791   \n",
       "\n",
       "   tamponi_test_antigenico_rapido  \n",
       "0                        48639949  \n",
       "\n",
       "[1 rows x 24 columns]"
      ]
     },
     "execution_count": 23,
     "metadata": {},
     "output_type": "execute_result"
    }
   ],
   "source": [
    "import pandas as pd\n",
    "\n",
    "# Vediamo cosa contiene il primo file -- avranno tutti lo stesso formato\n",
    "data = pd.read_csv(filenames[0])\n",
    "data"
   ]
  },
  {
   "cell_type": "code",
   "execution_count": 24,
   "metadata": {},
   "outputs": [
    {
     "data": {
      "text/plain": [
       "0    9709\n",
       "Name: nuovi_positivi, dtype: int64"
      ]
     },
     "execution_count": 24,
     "metadata": {},
     "output_type": "execute_result"
    }
   ],
   "source": [
    "# Prendiamo i nuovi casi positivi di questo giorno\n",
    "nuovi_positivi = data['nuovi_positivi']\n",
    "nuovi_positivi"
   ]
  },
  {
   "cell_type": "code",
   "execution_count": 39,
   "metadata": {},
   "outputs": [
    {
     "data": {
      "text/plain": [
       "[12448,\n",
       " 13764,\n",
       " 13686,\n",
       " 12877,\n",
       " 12932,\n",
       " 7975,\n",
       " 12764,\n",
       " 15085,\n",
       " 16806,\n",
       " 17030,\n",
       " 16632,\n",
       " 15021,\n",
       " 9503,\n",
       " 15756,\n",
       " 17959,\n",
       " 12527,\n",
       " 20497,\n",
       " 21042,\n",
       " 19215,\n",
       " 12712,\n",
       " 20677]"
      ]
     },
     "execution_count": 39,
     "metadata": {},
     "output_type": "execute_result"
    }
   ],
   "source": [
    "# Ora facciamolo per tutti gli ultimi 21 giorni, e mettiamo i risultati in una lista\n",
    "\n",
    "\n",
    "positivi_giornalieri_ultimi_21_giorni = []\n",
    "\n",
    "for filename in filenames[-21:]:\n",
    "    data = pd.read_csv(filename)\n",
    "    nuovi_positivi = data['nuovi_positivi'].values[0]\n",
    "    positivi_giornalieri_ultimi_21_giorni.append(nuovi_positivi)\n",
    "\n",
    "positivi_giornalieri_ultimi_21_giorni"
   ]
  },
  {
   "cell_type": "code",
   "execution_count": 50,
   "metadata": {},
   "outputs": [
    {
     "data": {
      "text/plain": [
       "[<matplotlib.lines.Line2D at 0x1193c59d0>]"
      ]
     },
     "execution_count": 50,
     "metadata": {},
     "output_type": "execute_result"
    },
    {
     "data": {
      "image/png": "[encoded data removed]",
      "text/plain": [
       "<Figure size 432x288 with 1 Axes>"
      ]
     },
     "metadata": {
      "needs_background": "light"
     },
     "output_type": "display_data"
    }
   ],
   "source": [
    "import matplotlib.pyplot as plt\n",
    "\n",
    "# Confrontiamo questo con il grafico del Sole24Ore\n",
    "plt.plot(positivi_giornalieri_ultimi_21_giorni)"
   ]
  },
  {
   "cell_type": "code",
   "execution_count": 73,
   "metadata": {},
   "outputs": [
    {
     "name": "stdout",
     "output_type": "stream",
     "text": [
      "[12448, 13764, 13686, 12877, 12932, 7975, 12764]\n",
      "[15085, 16806, 17030, 16632, 15021, 9503, 15756]\n",
      "[17959, 12527, 20497, 21042, 19215, 12712, 20677]\n"
     ]
    },
    {
     "data": {
      "text/plain": [
       "[86446, 105833, 124629]"
      ]
     },
     "execution_count": 73,
     "metadata": {},
     "output_type": "execute_result"
    }
   ],
   "source": [
    "# Ultime tre settimane, totale settimanale\n",
    "\n",
    "weekly = []\n",
    "for monday_index in range(0,21,7):\n",
    "    week = positivi_giornalieri_ultimi_21_giorni[monday_index:monday_index + 7]\n",
    "    print(week)\n",
    "    weekly.append(sum(week))\n",
    "\n",
    "weekly"
   ]
  },
  {
   "cell_type": "code",
   "execution_count": 80,
   "metadata": {},
   "outputs": [
    {
     "data": {
      "text/plain": [
       "Text(-1, 125629, '124629')"
      ]
     },
     "execution_count": 80,
     "metadata": {},
     "output_type": "execute_result"
    },
    {
     "data": {
      "image/png": "[encoded data removed]",
      "text/plain": [
       "<Figure size 432x288 with 1 Axes>"
      ]
     },
     "metadata": {
      "needs_background": "light"
     },
     "output_type": "display_data"
    }
   ],
   "source": [
    "# Confrontiamo questo grafico con quello de ilPost.\n",
    "# I numeri non coincidono perché stiamo prendendo gli ultimi 21 giorni invece\n",
    "# delle ultime tre settimane da lunedì a domenica.\n",
    "# Siamo però riusciti a ottenere un grafico simile.\n",
    "\n",
    "weeks = [-3, -2, -1]\n",
    "\n",
    "plt.bar(weeks, weekly)\n",
    "plt.text(-3, weekly[0] + 1000, weekly[0])\n",
    "plt.text(-2, weekly[1] + 1000, weekly[1])\n",
    "plt.text(-1, weekly[2] + 1000, weekly[2])\n"
   ]
  }
 ],
 "metadata": {
  "interpreter": {
   "hash": "aee8b7b246df8f9039afb4144a1f6fd8d2ca17a180786b69acc140d282b71a49"
  },
  "kernelspec": {
   "display_name": "Python 3.9.7 64-bit",
   "language": "python",
   "name": "python3"
  },
  "language_info": {
   "codemirror_mode": {
    "name": "ipython",
    "version": 3
   },
   "file_extension": ".py",
   "mimetype": "text/x-python",
   "name": "python",
   "nbconvert_exporter": "python",
   "pygments_lexer": "ipython3",
   "version": "3.9.7"
  },
  "orig_nbformat": 4
 },
 "nbformat": 4,
 "nbformat_minor": 2
}
